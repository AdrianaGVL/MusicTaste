{
 "cells": [
  {
   "cell_type": "markdown",
   "source": [
    "# Classification Machine Learning Methods\n",
    "The aim is to classify songs by their corresponding musical genre."
   ],
   "metadata": {
    "collapsed": false
   },
   "id": "14238757ec4636fa"
  },
  {
   "cell_type": "markdown",
   "source": [
    "### Libraries"
   ],
   "metadata": {
    "collapsed": false
   },
   "id": "de140a566e91b8f6"
  },
  {
   "cell_type": "code",
   "execution_count": null,
   "id": "initial_id",
   "metadata": {
    "collapsed": true
   },
   "outputs": [],
   "source": [
    "import os\n",
    "import pandas as pd\n",
    "import numpy as np\n",
    "import seaborn as sns\n",
    "import matplotlib.pyplot as plt\n",
    "from sklearn.model_selection import KFold, GridSearchCV, train_test_split\n",
    "from sklearn.discriminant_analysis import QuadraticDiscriminantAnalysis\n",
    "from sklearn.preprocessing import OneHotEncoder\n",
    "from sklearn import tree\n",
    "from sklearn.tree import DecisionTreeClassifier, plot_tree\n",
    "from sklearn.ensemble import RandomForestClassifier\n",
    "from sklearn.metrics import accuracy_score, precision_score, recall_score, f1_score, confusion_matrix"
   ]
  },
  {
   "cell_type": "markdown",
   "source": [
    "### Dataset path and needed parameters\n",
    "Be careful and change the paths before executing"
   ],
   "metadata": {
    "collapsed": false
   },
   "id": "3036e3130617c175"
  },
  {
   "cell_type": "code",
   "outputs": [],
   "source": [
    "# Data\n",
    "# Dataset for classification purposes\n",
    "cdata_path = 'df_marks.csv'\n",
    "\n",
    "# Parameters\n",
    "plots = True    # In case a representation of the data inside the dataset is wanted"
   ],
   "metadata": {
    "collapsed": false
   },
   "id": "f83663b0647e4a83"
  },
  {
   "cell_type": "markdown",
   "source": [
    "### Data loading"
   ],
   "metadata": {
    "collapsed": false
   },
   "id": "c8411de0a28e3e87"
  },
  {
   "cell_type": "code",
   "outputs": [],
   "source": [
    "# CSVs reading and training - test data generation\n",
    "data = pd.read_csv(cdata_path, sep=';', decimal=\",\", index_col=None)\n",
    "y = data.iloc[:, 0]\n",
    "X = data.iloc[:, 1:6].apply(pd.to_numeric, errors='coerce')\n",
    "X_train, X_test, y_train, y_test = train_test_split(X, y, test_size=0.2, random_state=42)"
   ],
   "metadata": {
    "collapsed": false
   },
   "id": "f53f80cc9f223db1"
  },
  {
   "cell_type": "markdown",
   "source": [
    "# Represent data"
   ],
   "metadata": {
    "collapsed": false
   },
   "id": "11432c8fafc956b6"
  },
  {
   "cell_type": "code",
   "outputs": [],
   "source": [
    "if plots:\n",
    "    color_map = {'Alternative': 'red', 'Pop': 'blue', 'Classical': 'green', 'Rock': 'purple', 'Dance': 'orange',\n",
    "                 'Techno': 'brown'}\n",
    "    marker_map = {'Alternative': 'o', 'Pop': 's', 'Classical': '^', 'Rock': 'v', 'Dance': 'p', 'Techno': '*'}\n",
    "    for col in X.columns:\n",
    "        plt.figure(figsize=(10, 8))\n",
    "        plt.clf()\n",
    "        for label in y.unique():\n",
    "            subset = X.loc[y == label, col].round(3)\n",
    "            plt.scatter(subset, y[y == label], label=f'{label}',\n",
    "                        color=color_map[label], marker=marker_map[label])\n",
    "        plt.title(f'{col}')\n",
    "        plt.xlabel('Values')\n",
    "        plt.ylabel('Genres')\n",
    "        plt.legend()\n",
    "        plt.savefig(f'new_data/{col}.png')"
   ],
   "metadata": {
    "collapsed": false
   },
   "id": "b3984bdf3f6bacf4"
  },
  {
   "cell_type": "markdown",
   "source": [
    "## Models\n",
    "The classification models available in this project are:\n",
    "1. Quadratic Discriminant Analysis (QDA)\n",
    "2. Random Forest\n",
    "3. Classification Tree"
   ],
   "metadata": {
    "collapsed": false
   },
   "id": "ddde862f6cde6e81"
  },
  {
   "cell_type": "markdown",
   "source": [
    "### Quadratic Discriminant Analysis (QDA)\n",
    "In this model, the steps are as follows:\n",
    "1. One-hot encoding. The classification variable is categorical and must encode in numbers\n",
    "2. The QDA model is called from the sklearn.discriminant_analysis library\n",
    "3. The model is trained"
   ],
   "metadata": {
    "collapsed": false
   },
   "id": "a2c9be62dc21deb8"
  },
  {
   "cell_type": "code",
   "outputs": [],
   "source": [
    "# Result list\n",
    "results = list()    # The results variables will be saved in this variable\n",
    "\n",
    "# One-hot encode the categorical variable \n",
    "y_train_reshaped = y_train.values.reshape(-1, 1)\n",
    "y_test_reshaped = y_test.values.reshape(-1, 1)\n",
    "encoder = OneHotEncoder()\n",
    "y_train_encoded = np.argmax(encoder.fit_transform(y_train_reshaped).toarray(), axis=1)\n",
    "y_test_encoded = np.argmax(encoder.transform(y_test_reshaped).toarray(), axis=1)\n",
    "\n",
    "# Create and train the QDA model\n",
    "model = QuadraticDiscriminantAnalysis()\n",
    "\n",
    "# Model training\n",
    "model.fit(X_train, y_train_encoded)"
   ],
   "metadata": {
    "collapsed": false
   },
   "id": "d613f42286107c87"
  },
  {
   "cell_type": "markdown",
   "source": [
    "### Quadratic Discriminant Analysis (QDA)\n",
    "Continuing with the process: Once the model iis trained, it is time to evaluate it\n",
    "4.  Make predictions on the test set\n",
    "5. Evaluate the model and store the result\n",
    "6. Plot the results"
   ],
   "metadata": {
    "collapsed": false
   },
   "id": "745f75be7f380f6e"
  },
  {
   "cell_type": "code",
   "outputs": [],
   "source": [
    "# Make predictions on the test set\n",
    "y_pred = model.predict(X_test)\n",
    "\n",
    "# Evaluate the model and store the result\n",
    "acc = accuracy_score(y_test_encoded, y_pred)\n",
    "precision = precision_score(y_test_encoded, y_pred, average='macro', zero_division=1)\n",
    "recall = recall_score(y_test_encoded, y_pred, average='macro', zero_division=1)\n",
    "f1 = f1_score(y_test_encoded, y_pred, average='macro', zero_division=1)\n",
    "\n",
    "results.append({'Model': 'QDA' , 'Accuracy': acc, 'Precision': precision, 'Recall': recall, 'F1_score': f1})\n",
    "print(f'>acc={acc:.3f}, precision={precision:.3f}, rll={recall:.3f}, f1={f1:.3f}')\n",
    "\n",
    "# PLot the confusion matrix\n",
    "cm = confusion_matrix(y_test_encoded, y_pred)\n",
    "plt.figure(figsize=(8, 6))\n",
    "sns.heatmap(cm, annot=True, fmt=\"d\", cmap=\"Blues\", cbar=False,\n",
    "            xticklabels=y_train.unique(), yticklabels=y_train.unique())\n",
    "plt.xlabel('Predicted')\n",
    "plt.ylabel('True')\n",
    "plt.title('Confusion Matrix')\n",
    "plt.savefig(f\"QDA/Confusion_Matrix.png\")"
   ],
   "metadata": {
    "collapsed": false
   },
   "id": "113df3b9eded92a5"
  },
  {
   "cell_type": "markdown",
   "source": [
    "### Random Forest\n",
    "In this model, the steps are as follows:\n",
    "1. Load the data\n",
    "2. Execute the cross validation method over the data\n",
    "3. Define the model and its space\n",
    "4. Apply the search definition for the cross validation\n",
    "5. Train the models and return the best one\n",
    "6. Test the model and save the results"
   ],
   "metadata": {
    "collapsed": false
   },
   "id": "d76514391360c57b"
  },
  {
   "cell_type": "code",
   "outputs": [],
   "source": [
    "# Result list\n",
    "outer_results = list()\n",
    "\n",
    "# Other variables\n",
    "num_forests = 0\n",
    "\n",
    "# Enumerate splits\n",
    "cv_outer = KFold(n_splits=10, shuffle=True, random_state=2)\n",
    "for train, test in cv_outer.split(data.iloc[:, 0:6]):\n",
    "    # Split data\n",
    "    X_train, X_test = X.iloc[train, 0:6], X.iloc[test, 0:6]\n",
    "    y_train, y_test = y.iloc[train], y.iloc[test]\n",
    "\n",
    "    # Configure the cross-validation procedure\n",
    "    cv_inner = KFold(n_splits=3, shuffle=True, random_state=1)\n",
    "\n",
    "    # Model selection and search space definition\n",
    "    model = RandomForestClassifier(random_state=1)\n",
    "    # Search Variables definition\n",
    "    space = {\n",
    "        'n_estimators': [50, 70, 110],\n",
    "        'max_depth': [5, 10, 20, 30],\n",
    "        'min_samples_split': [2, 5, 10],\n",
    "        'min_samples_leaf': [1, 2, 4]\n",
    "    }\n",
    "    export_name = 'RF'\n",
    "\n",
    "    # Search definition\n",
    "    search = GridSearchCV(model, space, scoring='accuracy', cv=cv_inner, refit=True)\n",
    "\n",
    "    # Search\n",
    "    result = search.fit(X_train, y_train)\n",
    "\n",
    "    # Save the best model\n",
    "    best_model = result.best_estimator_\n",
    "\n",
    "    # Model Evaluation\n",
    "    y_pred = best_model.predict(X_test)\n",
    "    acc = accuracy_score(y_test, y_pred)\n",
    "    precision = precision_score(y_test, y_pred, average='macro', zero_division=1)\n",
    "    recall = recall_score(y_test, y_pred, average='macro', zero_division=1)\n",
    "    f1 = f1_score(y_test, y_pred, average='macro', zero_division=1)\n",
    "\n",
    "    # Store result for the outer one\n",
    "    outer_results.append({'Model': 'Random_Forest', 'Accuracy': acc, 'Precision': precision, 'Recall': recall, 'F1_score': f1})\n",
    "    \n",
    "    # Plot the results and the most important info of the model\n",
    "    # Feature Importance\n",
    "    feature_importance = best_model.feature_importances_\n",
    "    feature_names = best_model.feature_names_in_\n",
    "\n",
    "    # Plot Feature Importance\n",
    "    plt.figure(figsize=(20, 12))\n",
    "    ax = sns.barplot(x=feature_importance, y=feature_names, palette=\"viridis\")\n",
    "    plt.title('Feature Importance in Random Forest', fontweight='bold')\n",
    "    plt.xlabel('Importance', fontweight='bold')\n",
    "    plt.ylabel('Features', fontweight='bold')\n",
    "    for i in range(len(feature_importance)):\n",
    "        ax.text(feature_importance[i], i, f'{feature_names[i]}: {feature_importance[i]:.4f}', ha='left',\n",
    "                va='center')\n",
    "    plt.tight_layout()\n",
    "    sns.set_style(\"whitegrid\")\n",
    "    ax.spines['top'].set_visible(False)\n",
    "    ax.spines['right'].set_visible(False)\n",
    "    ax.spines['bottom'].set_visible(True)\n",
    "    ax.spines['left'].set_visible(True)\n",
    "    ax.set_xlim(0, max(feature_importance) * 1.1)\n",
    "    os.makedirs(f\"Forest/{num_forests}\", exist_ok=True)\n",
    "    plt.savefig(f\"Forest/{num_forests}/feature_importance.png\")\n",
    "\n",
    "    # Forest plot\n",
    "    for tree_index, tree_estimator in enumerate(best_model.estimators_):\n",
    "        plt.figure(figsize=(192, 108))\n",
    "        plot_tree(tree_estimator, feature_names=best_model.feature_names_in_,\n",
    "                  class_names=['Alternative', 'Pop', 'Techno', 'Dance', 'Rock', 'Classical'],\n",
    "                  filled=True, rounded=True)\n",
    "        plt.title(f\"Decision Tree {tree_index}\", fontweight='bold')\n",
    "        plt.savefig(f\"Forest/{num_forests}/{tree_index}.png\")\n",
    "        plt.close()\n",
    "\n",
    "        # Report progress\n",
    "        print(f'>acc={acc:.3f}, est={result.best_score_:.3f}, cfg={result.best_params_}')\n",
    "        print(f'>precision={precision:.3f}, rll={recall:.3f}, f1={f1:.3f}')\n",
    "        num_forests += 1"
   ],
   "metadata": {
    "collapsed": false
   },
   "id": "50b3fb5d5e6b7085"
  },
  {
   "cell_type": "markdown",
   "source": [
    "### Classification Tree\n",
    "In this model, the steps are as follows:\n",
    "1. Load the data\n",
    "2. Execute the cross validation method over the data\n",
    "3. Define the model and its space\n",
    "4. Apply the search definition for the cross validation\n",
    "5. Train the models and return the best one\n",
    "6. Test the model and save the results"
   ],
   "metadata": {
    "collapsed": false
   },
   "id": "b6a6d0278ba2baf5"
  },
  {
   "cell_type": "code",
   "outputs": [],
   "source": [
    "# Result list\n",
    "outer_results = list()\n",
    "\n",
    "# Other variables\n",
    "num_trees = 0\n",
    "\n",
    "# Enumerate splits\n",
    "cv_outer = KFold(n_splits=10, shuffle=True, random_state=2)\n",
    "\n",
    "for train, test in cv_outer.split(data.iloc[:, 0:6]):\n",
    "    # Split data\n",
    "    X_train, X_test = X.iloc[train, 0:6], X.iloc[test, 0:6]\n",
    "    y_train, y_test = y.iloc[train], y.iloc[test]\n",
    "\n",
    "    # Configure the cross-validation procedure\n",
    "    cv_inner = KFold(n_splits=3, shuffle=True, random_state=1)\n",
    "\n",
    "    # Model selection and search space definition\n",
    "    # Model selection\n",
    "    model = DecisionTreeClassifier(random_state=1)\n",
    "    # Search Variables definition\n",
    "    space = [\n",
    "        {'criterion': ['gini', 'entropy', 'log_loss']},\n",
    "        {'splitter': ['best', 'random']},\n",
    "        {'max_leaf_nodes': list(range(2, 100))},\n",
    "        {'min_samples_split': [2, 3, 4]}\n",
    "    ]\n",
    "    export_name = 'DT'\n",
    "\n",
    "    # Search definition\n",
    "    search = GridSearchCV(model, space, scoring='accuracy', cv=cv_inner, refit=True)\n",
    "\n",
    "    # Search\n",
    "    result = search.fit(X_train, y_train)\n",
    "\n",
    "    # Save the best model\n",
    "    best_model = result.best_estimator_\n",
    "\n",
    "    # Model Evaluation\n",
    "    y_pred = best_model.predict(X_test)\n",
    "    acc = accuracy_score(y_test, y_pred)\n",
    "    precision = precision_score(y_test, y_pred, average='macro', zero_division=1)\n",
    "    recall = recall_score(y_test, y_pred, average='macro', zero_division=1)\n",
    "    f1 = f1_score(y_test, y_pred, average='macro', zero_division=1)\n",
    "\n",
    "    # Store result for the outer one\n",
    "    outer_results.append({'Model': 'Classification', 'Accuracy': acc, 'Precision': precision, 'Recall': recall, 'F1_score': f1})\n",
    "\n",
    "    # Plot and print the results\n",
    "    num_trees += 1\n",
    "    fig = plt.figure(figsize=(192, 108))\n",
    "    _ = tree.plot_tree(best_model,\n",
    "                       feature_names=['Beats per song', 'Danceability', 'Loudness (dB)',\n",
    "                                      'Spectral Rolloff', 'Spectral Centroid'],\n",
    "                       class_names=['Alternative', 'Pop', 'Techno', 'Dance', 'Rock', 'Classical'],\n",
    "                       filled=True)\n",
    "    plt.savefig(f\"ClassifTree/{best_model}_{num_trees}.png\")\n",
    "\n",
    "    # Report progress\n",
    "    print(f'>acc={acc:.3f}, est={result.best_score_:.3f}, cfg={result.best_params_}')\n",
    "    print(f'>precision={precision:.3f}, rll={recall:.3f}, f1={f1:.3f}')"
   ],
   "metadata": {
    "collapsed": false
   },
   "id": "b4a798399c6c8efd"
  }
 ],
 "metadata": {
  "kernelspec": {
   "display_name": "Python 3",
   "language": "python",
   "name": "python3"
  },
  "language_info": {
   "codemirror_mode": {
    "name": "ipython",
    "version": 2
   },
   "file_extension": ".py",
   "mimetype": "text/x-python",
   "name": "python",
   "nbconvert_exporter": "python",
   "pygments_lexer": "ipython2",
   "version": "2.7.6"
  }
 },
 "nbformat": 4,
 "nbformat_minor": 5
}
