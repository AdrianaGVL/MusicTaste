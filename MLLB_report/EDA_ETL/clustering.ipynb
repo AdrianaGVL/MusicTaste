{
 "cells": [
  {
   "cell_type": "markdown",
   "source": [
    "# Clustering"
   ],
   "metadata": {
    "collapsed": false
   },
   "id": "3f952e7724bf519a"
  },
  {
   "cell_type": "markdown",
   "source": [
    "## K-Means Method\n",
    "This method is used to detect group in datasets. This means that the following code will be use to detect any possible groups within the genres."
   ],
   "metadata": {
    "collapsed": false
   },
   "id": "301d34b48c72ef3e"
  },
  {
   "cell_type": "markdown",
   "source": [
    "### Libraries"
   ],
   "metadata": {
    "collapsed": false
   },
   "id": "7d039f64883af26a"
  },
  {
   "cell_type": "code",
   "outputs": [],
   "source": [
    "import pandas as pd\n",
    "import matplotlib.pyplot as plt\n",
    "from sklearn.cluster import KMeans"
   ],
   "metadata": {
    "collapsed": false
   },
   "id": "c227b57652450112"
  },
  {
   "cell_type": "markdown",
   "source": [
    "### Load dataset\n",
    "Dataset, which is a csv file is loaded."
   ],
   "metadata": {
    "collapsed": false
   },
   "id": "aa69841d001c19ba"
  },
  {
   "cell_type": "code",
   "outputs": [],
   "source": [
    "data = pd.read_csv('df_norm.csv', sep=';', decimal=\",\", index_col=None)"
   ],
   "metadata": {
    "collapsed": false
   },
   "id": "4bc769533c7a425a"
  },
  {
   "cell_type": "markdown",
   "source": [
    "### Parameters\n",
    "Parameters needed in the following cells"
   ],
   "metadata": {
    "collapsed": false
   },
   "id": "4c6001e96d73cfe9"
  },
  {
   "cell_type": "code",
   "outputs": [],
   "source": [
    "Application = 'R'   # R for Regression | C for Classification\n",
    "X = ''\n",
    "features = ''\n",
    "if Application == 'R':\n",
    "    X = data.iloc[:, 6:23]  # Desired columns, this parameter must be changed for each dataset\n",
    "    features = X.columns\n",
    "else:\n",
    "    X = data.iloc[:, 1:6]   # Desired columns, this parameter must be changed for each dataset\n",
    "    features = X.columns"
   ],
   "metadata": {
    "collapsed": false
   },
   "id": "c75f3f9824c1d59"
  },
  {
   "cell_type": "markdown",
   "source": [
    "### Training\n",
    "In this case, an unsupervised method, as the clustering methods are, will be trained with the  KMeans function from the sklearn.cluster library"
   ],
   "metadata": {
    "collapsed": false
   },
   "id": "8fc022159df51196"
  },
  {
   "cell_type": "code",
   "outputs": [],
   "source": [
    "# Train the model\n",
    "n_clusters = 5  # K-1 being K the expected groups\n",
    "kmeans = KMeans(n_clusters = 5, init = 'k-means++', random_state = 42)\n",
    "fitted_kmeans = kmeans.fit_predict(X)\n",
    "\n",
    "Centers = kmeans.cluster_centers_\n",
    "df_centers = pd.DataFrame(data = Centers,\n",
    "                          columns = features)\n",
    "print(df_centers)"
   ],
   "metadata": {
    "collapsed": false
   },
   "id": "bda3bfea8f101d45"
  },
  {
   "cell_type": "markdown",
   "source": [
    "### Visualizing the results"
   ],
   "metadata": {
    "collapsed": false
   },
   "id": "454819ce47856d00"
  },
  {
   "cell_type": "code",
   "outputs": [],
   "source": [
    "# Plot clusters\n",
    "plt.subplots()\n",
    "colors = ['red', 'blue', 'green', 'cyan', 'magenta', 'orange', 'yellow', 'purple', 'brown', 'pink', 'black', 'indigo', 'olive', 'lightcoral', 'darkblue', 'lightgray']\n",
    "for i in range(n_clusters):\n",
    "    for j in range(len(features)-1):\n",
    "        plt.scatter(X.iloc[fitted_kmeans == 0, j], X.iloc[fitted_kmeans == 0, j+1], s = 30, c = colors[j], label = f'Cluster {j}')\n",
    "    plt.title(f'{features[i]}- {features[i + 1]}')\n",
    "    plt.xlabel(f'{features[i]}')\n",
    "    plt.ylabel(f'{features[i+1]}')\n",
    "    plt.legend()\n",
    "    plt.savefig(f\"Features/new_data/Clustering/{Application}/Cluster_{features[i]}.png\")\n",
    "    plt.show()"
   ],
   "metadata": {
    "collapsed": false
   },
   "id": "36d32f0b58a916b6"
  }
 ],
 "metadata": {
  "kernelspec": {
   "display_name": "Python 3",
   "language": "python",
   "name": "python3"
  },
  "language_info": {
   "codemirror_mode": {
    "name": "ipython",
    "version": 2
   },
   "file_extension": ".py",
   "mimetype": "text/x-python",
   "name": "python",
   "nbconvert_exporter": "python",
   "pygments_lexer": "ipython2",
   "version": "2.7.6"
  }
 },
 "nbformat": 4,
 "nbformat_minor": 5
}
