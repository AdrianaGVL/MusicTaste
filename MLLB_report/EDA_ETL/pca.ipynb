{
 "cells": [
  {
   "cell_type": "markdown",
   "source": [
    "# Principal Component Analysis"
   ],
   "metadata": {
    "collapsed": false
   },
   "id": "3f952e7724bf519a"
  },
  {
   "cell_type": "markdown",
   "source": [
    "### Libraries"
   ],
   "metadata": {
    "collapsed": false
   },
   "id": "7d039f64883af26a"
  },
  {
   "cell_type": "code",
   "outputs": [],
   "source": [
    "import pandas as pd\n",
    "from sklearn.decomposition import PCA\n",
    "import matplotlib.pyplot as plt\n",
    "from matplotlib.animation import FuncAnimation"
   ],
   "metadata": {
    "collapsed": false
   },
   "id": "c227b57652450112"
  },
  {
   "cell_type": "markdown",
   "source": [
    "### Load dataset\n",
    "Dataset, which is a csv file is loaded."
   ],
   "metadata": {
    "collapsed": false
   },
   "id": "aa69841d001c19ba"
  },
  {
   "cell_type": "code",
   "outputs": [],
   "source": [
    "data = pd.read_csv('df_enorm.csv', sep=';', decimal=\",\", index_col=None)"
   ],
   "metadata": {
    "collapsed": false
   },
   "id": "4bc769533c7a425a"
  },
  {
   "cell_type": "markdown",
   "source": [
    "### Parameters\n",
    "Parameters needed in the following cells"
   ],
   "metadata": {
    "collapsed": false
   },
   "id": "4c6001e96d73cfe9"
  },
  {
   "cell_type": "code",
   "outputs": [],
   "source": [
    "Application = 'R'   # R for Regression | C for Classification\n",
    "n_components = 16\n",
    "num_features_classif = 1 + n_components     # Total classification features = 5\n",
    "num_features_regress = 7 + n_components     # Total regression features = 28\n",
    "\n",
    "X = ''\n",
    "features = ''\n",
    "if Application == 'R':\n",
    "    X = data.iloc[:, 7:num_features_regress]    # Desired columns, this parameter must be changed for each dataset\n",
    "    features = X.columns\n",
    "else:\n",
    "    X = data.iloc[:, 1:num_features_classif]\n",
    "    features = X.columns"
   ],
   "metadata": {
    "collapsed": false
   },
   "id": "c75f3f9824c1d59"
  },
  {
   "cell_type": "markdown",
   "source": [
    "### Elbow rule\n",
    "To know how many parameters are needed in order to represent a percentage of the total variance.\n",
    "It is commented because is onlly necessary to run ot once."
   ],
   "metadata": {
    "collapsed": false
   },
   "id": "6b5baf794752ef87"
  },
  {
   "cell_type": "code",
   "outputs": [],
   "source": [
    "# # Elbow rule\n",
    "# pca = PCA()\n",
    "# pca.fit(X)\n",
    "#\n",
    "# ############### JUST TO STUDY THE NUMBER OF COMPONENTS ##############\n",
    "# # Accumulative variance\n",
    "# cumulative_explained_variance = pca.explained_variance_ratio_.cumsum()\n",
    "#\n",
    "# # Elbow rule chart\n",
    "# plt.plot(range(1, len(cumulative_explained_variance) + 1), cumulative_explained_variance, marker='o', linestyle='--')\n",
    "# plt.axhline(y=0.80, color=\"r\", linestyle=\"-\")\n",
    "# plt.axhline(y=0.90, color=\"purple\", linestyle=\"-\")\n",
    "# plt.axhline(y=0.95, color=\"orange\", linestyle=\"-\")\n",
    "# plt.xlabel('Number of principal components')\n",
    "# plt.ylabel('Explained Accumulative Variance')\n",
    "# plt.title('Principal Components Analysis (PCA) - Elbow rule')\n",
    "# plt.savefig(f\"Features/new_data/PCA/{Application}/Number_of_components.png\")\n",
    "# plt.show()\n",
    "# ############### JUST TO STUDY THE NUMBER OF COMPONENTS ##############"
   ],
   "metadata": {
    "collapsed": false
   },
   "id": "361ea18a96152a48"
  },
  {
   "cell_type": "markdown",
   "source": [
    "### Training\n",
    "In this case, an unsupervised method, as the clustering methods are, will be trained with the  KMeans function from the sklearn.cluster library"
   ],
   "metadata": {
    "collapsed": false
   },
   "id": "8fc022159df51196"
  },
  {
   "cell_type": "code",
   "outputs": [],
   "source": [
    "# Train the model\n",
    "# PCA model\n",
    "components=[]\n",
    "n=1\n",
    "while n<=n_components:\n",
    "    components.append(\"PC\"+str(n))\n",
    "    n=n+1\n",
    "\n",
    "pca = PCA(n_components=n_components)\n",
    "pc = pca.fit_transform(X)"
   ],
   "metadata": {
    "collapsed": false
   },
   "id": "bda3bfea8f101d45"
  },
  {
   "cell_type": "markdown",
   "source": [
    "### Visualizing the results"
   ],
   "metadata": {
    "collapsed": false
   },
   "id": "454819ce47856d00"
  },
  {
   "cell_type": "code",
   "outputs": [],
   "source": [
    "# Biplot\n",
    "plt.scatter(pc[:, 0], pc[:, 1], alpha=0.7)\n",
    "# Arrow adding\n",
    "for i, variable in enumerate(pca.components_.T):\n",
    "    plt.arrow(0, 0, variable[0], variable[1], color='yellow', alpha=0.5)\n",
    "    plt.text(variable[0] * 1.3, variable[1] * 1.3, f'{features[i]}', color='black', ha='center', va='center', fontsize=3.5)\n",
    "\n",
    "plt.xlabel('Principal Component 1')\n",
    "plt.ylabel('Principal Component 2')\n",
    "plt.grid(True)\n",
    "plt.savefig(f\"PCA/{Application}/Biplot_{n_components}Components.png\")\n",
    "plt.show()"
   ],
   "metadata": {
    "collapsed": false
   },
   "id": "36d32f0b58a916b6"
  },
  {
   "cell_type": "markdown",
   "source": [
    "### Save the data in a dataframe"
   ],
   "metadata": {
    "collapsed": false
   },
   "id": "c928078e138a3b9"
  },
  {
   "cell_type": "code",
   "outputs": [],
   "source": [
    "# Dataframe with PCA results\n",
    "pca_df = pd.DataFrame(data=pc, columns=components)\n",
    "print(pca_df.head())"
   ],
   "metadata": {
    "collapsed": false
   },
   "id": "eabdf2c2defe357f"
  },
  {
   "cell_type": "markdown",
   "source": [
    "### Explore variance per component"
   ],
   "metadata": {
    "collapsed": false
   },
   "id": "879d2f76e07c18bf"
  },
  {
   "cell_type": "code",
   "outputs": [],
   "source": [
    "explained_variance = pca.explained_variance_ratio_\n",
    "print(f'Varianza explicada por cada componente: {explained_variance}')\n",
    "\n",
    "components_df = pd.DataFrame(pca.components_, columns=features, index=components)\n",
    "print(components_df)"
   ],
   "metadata": {
    "collapsed": false
   },
   "id": "c73c9a468386485b"
  },
  {
   "cell_type": "markdown",
   "source": [
    "# Explicative variance chart per component"
   ],
   "metadata": {
    "collapsed": false
   },
   "id": "738eacb13baf1b71"
  },
  {
   "cell_type": "code",
   "outputs": [],
   "source": [
    "plt.bar(features, explained_variance)\n",
    "plt.xlabel(\"Principal Components\")\n",
    "plt.ylabel(\"Explained Variance\")\n",
    "plt.title(\"Explained Variance per Principal Components\")\n",
    "plt.xticks(fontsize=4.5)\n",
    "plt.savefig(f\"PCA/{Application}/ExplainedComponents_{n_components}Components.png\")\n",
    "plt.show()"
   ],
   "metadata": {
    "collapsed": false
   },
   "id": "10a71e3c168bcff5"
  },
  {
   "cell_type": "markdown",
   "source": [
    "### Explicative variance gif per component \n",
    "Due to the small size of the arrows, a gif is created for each arrow, so the video shows where it is and the module of the corresponding arrow."
   ],
   "metadata": {
    "collapsed": false
   },
   "id": "7f634ef375f54107"
  },
  {
   "cell_type": "code",
   "outputs": [],
   "source": [
    "fig, ax = plt.subplots()\n",
    "info = 'Biplot' # Arrows or Biplot\n",
    "def update(frame):\n",
    "    if info == 'Arrows':\n",
    "        ax.clear()\n",
    "    else:\n",
    "        ax.clear()\n",
    "        plt.scatter(pc[:, 0], pc[:, 1], alpha=0.7)\n",
    "    plt.xlabel('Principal Component 1')\n",
    "    plt.ylabel('Principal Component 2')\n",
    "    plt.title(features[frame])\n",
    "\n",
    "    # Draw an arrow per frame\n",
    "    variable = pca.components_.T[frame]\n",
    "    ax.arrow(0, 0, variable[0], variable[1], color='yellow', alpha=0.5)\n",
    "    ax.text(variable[0] * 1.3, variable[1] * 1.3, f'{features[frame]}', color='black', ha='center', va='center', fontsize=8)\n",
    "\n",
    "# Execute the animation\n",
    "frames = pca.components_.shape[1]\n",
    "animation = FuncAnimation(fig, update, frames=frames, interval=1000, repeat=False)\n",
    "animation.save(f'PCA/{Application}/{info}_animation.gif', writer='pillow')"
   ],
   "metadata": {
    "collapsed": false
   },
   "id": "fde2741f90515eee"
  }
 ],
 "metadata": {
  "kernelspec": {
   "display_name": "Python 3",
   "language": "python",
   "name": "python3"
  },
  "language_info": {
   "codemirror_mode": {
    "name": "ipython",
    "version": 2
   },
   "file_extension": ".py",
   "mimetype": "text/x-python",
   "name": "python",
   "nbconvert_exporter": "python",
   "pygments_lexer": "ipython2",
   "version": "2.7.6"
  }
 },
 "nbformat": 4,
 "nbformat_minor": 5
}
