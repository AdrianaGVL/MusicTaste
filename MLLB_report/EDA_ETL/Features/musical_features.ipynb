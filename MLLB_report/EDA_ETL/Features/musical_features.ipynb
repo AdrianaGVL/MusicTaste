{
 "cells": [
  {
   "cell_type": "markdown",
   "source": [
    "# Musical features extraction\n",
    "Owing to the type of data that a machine learning need to be fed with, this process will be apply to every selected song."
   ],
   "metadata": {
    "collapsed": false
   },
   "id": "d053ae712697fb77"
  },
  {
   "cell_type": "markdown",
   "source": [
    "### Libraries"
   ],
   "metadata": {
    "collapsed": false
   },
   "id": "f9ba7606b7154130"
  },
  {
   "cell_type": "code",
   "outputs": [],
   "source": [
    "import librosa\n",
    "import numpy as np\n",
    "import essentia.standard as ess\n",
    "import pandas as pd\n",
    "import os\n",
    "from pathlib import Path\n",
    "from sklearn.preprocessing import StandardScaler"
   ],
   "metadata": {
    "collapsed": false
   },
   "id": "f704fe9ead02e5dd"
  },
  {
   "cell_type": "markdown",
   "source": [
    "### Data paths"
   ],
   "metadata": {
    "collapsed": false
   },
   "id": "e314d78046d86cf3"
  },
  {
   "cell_type": "code",
   "outputs": [],
   "source": [
    "parent_path = 'PRDL+MLLB'\n",
    "data_path = f'{parent_path}/used_dataset'\n",
    "genres = [x for x in os.listdir(data_path) if os.path.isdir(os.path.join(data_path, x))]\n",
    "# This names will be the columns names if the dataset that the machine learning algorithm will have as input\n",
    "freq_features = [f\"MFCC {num}\" for num in range(1, 21)]\n",
    "others_features = ['Beats_song', 'Danceability', 'Loudness', 'Spectral_Rolloff', 'Spectral Centroid', 'Energy']\n",
    "features = others_features + freq_features"
   ],
   "metadata": {
    "collapsed": false
   },
   "id": "ed7b21aedd6c0c6b"
  },
  {
   "cell_type": "markdown",
   "source": [
    "### Dataframe creation and "
   ],
   "metadata": {
    "collapsed": false
   },
   "id": "80ac49b21bebe148"
  },
  {
   "cell_type": "code",
   "outputs": [],
   "source": [
    "df = pd.DataFrame(columns=[\"Genre\"] + features)"
   ],
   "metadata": {
    "collapsed": false
   },
   "id": "936bc11ee2ceed71"
  },
  {
   "cell_type": "markdown",
   "source": [
    "### Features extraction and dataframe addition"
   ],
   "metadata": {
    "collapsed": false
   },
   "id": "37e0f1ebae634e67"
  },
  {
   "cell_type": "code",
   "outputs": [],
   "source": [
    "for genre in genres:\n",
    "    # Music path\n",
    "    music = f'{data_path}/{genre}'\n",
    "    songs = os.listdir(music)\n",
    "    print(f'Number of files in {genre} folder: {len(songs)}')\n",
    "    for song in songs:\n",
    "        file, extension = os.path.splitext(song)\n",
    "        if not extension == '.mp3':\n",
    "            print(f'The {genre} folder not only contains songs')\n",
    "            print(f'\\tNot valid file: {file}')\n",
    "            songs.remove(file)\n",
    "            continue\n",
    "\n",
    "        # Feature extraction\n",
    "        audio, sr = librosa.load(f'{music}/{song}')\n",
    "\n",
    "        # MFCC\n",
    "        mfccs_values = librosa.feature.mfcc(y=audio, sr=sr, n_mfcc=20)\n",
    "        MFCCs = np.mean(mfccs_values, axis=1)\n",
    "\n",
    "        # Tempo and beats per song\n",
    "        # Tempo won't be use because its poor correlation to the genre\n",
    "        tempo, beat_frames = librosa.beat.beat_track(y=audio, sr=sr)\n",
    "        beats = librosa.frames_to_time(beat_frames, sr=sr)\n",
    "        total_beats = len(beats)\n",
    "\n",
    "        # Loudness\n",
    "        loudness = ess.Loudness()(audio)\n",
    "        loudness = 10 * np.log10(loudness)\n",
    "\n",
    "        # Danceability\n",
    "        danceability = ess.Danceability()(audio)\n",
    "\n",
    "        # Energy\n",
    "        # energy = ess.Energy()(audio)\n",
    "        # energy = 10 * np.log10(energy)\n",
    "\n",
    "        # Spectrum\n",
    "        # Check if the length is odd\n",
    "        if len(audio) % 2 != 0:\n",
    "            audio = np.append(audio, 0)\n",
    "\n",
    "        spectrum = ess.Spectrum()(audio)\n",
    "\n",
    "        # Spectral Roll-off\n",
    "        roff = ess.RollOff()(spectrum)\n",
    "\n",
    "        # Spectral Centroid\n",
    "        centroid = ess.Centroid()(spectrum)\n",
    "\n",
    "        # Regression dataframe\n",
    "        new_row_r = MFCCs.tolist()\n",
    "        # Classification dataframe\n",
    "        new_row_c = [genre, total_beats, danceability, loudness, roff, centroid]\n",
    "\n",
    "        # Whole dataframe\n",
    "        df.loc[len(df.index), :] = new_row_c + new_row_r"
   ],
   "metadata": {
    "collapsed": false
   },
   "id": "563923fe5e9b1ddf"
  },
  {
   "cell_type": "markdown",
   "source": [
    "### Save the dataframe"
   ],
   "metadata": {
    "collapsed": false
   },
   "id": "4c352ff99fcbe6b6"
  },
  {
   "cell_type": "code",
   "outputs": [],
   "source": [
    "df_path = f'{str(Path(Path.cwd()))}'\n",
    "df.to_csv(f'{df_path}/df_features.csv', sep=';', decimal=\",\", index=False)"
   ],
   "metadata": {
    "collapsed": false
   },
   "id": "17c16de051749230"
  },
  {
   "cell_type": "markdown",
   "source": [
    "### # Normalise each column with Z-score (mean = 0, std = 1) and save the new dataframe"
   ],
   "metadata": {
    "collapsed": false
   },
   "id": "a6b477517c893c35"
  },
  {
   "cell_type": "code",
   "outputs": [],
   "source": [
    "standard_scaler = StandardScaler()\n",
    "# General dataset\n",
    "for feat in features:\n",
    "    df[feat] = standard_scaler.fit_transform(df[[feat]])\n",
    "\n",
    "# Normalised dataframe\n",
    "df_path = f'{str(Path(Path.cwd()))}'\n",
    "df.to_csv(f'{df_path}/df_norm.csv', sep=';', decimal=\",\", index=False)"
   ],
   "metadata": {
    "collapsed": false
   },
   "id": "2506ded99d32d01"
  }
 ],
 "metadata": {
  "kernelspec": {
   "display_name": "Python 3",
   "language": "python",
   "name": "python3"
  },
  "language_info": {
   "codemirror_mode": {
    "name": "ipython",
    "version": 2
   },
   "file_extension": ".py",
   "mimetype": "text/x-python",
   "name": "python",
   "nbconvert_exporter": "python",
   "pygments_lexer": "ipython2",
   "version": "2.7.6"
  }
 },
 "nbformat": 4,
 "nbformat_minor": 5
}
